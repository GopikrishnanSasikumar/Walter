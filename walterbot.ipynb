{
 "cells": [
  {
   "cell_type": "code",
   "execution_count": null,
   "metadata": {},
   "outputs": [
    {
     "name": "stdout",
     "output_type": "stream",
     "text": [
      "User:hello\n",
      "walter: {'label': 'greetings', 'response': 'hello I am walter,how can I help you', 'bookread': 'n'}\n"
     ]
    }
   ],
   "source": [
    "from query import queryrunner\n",
    "from nlengine import nlengine\n",
    "userid='14br9908'\n",
    "while(True):\n",
    "     m=input(\"User:\")\n",
    "     k=nlengine(m)\n",
    "     message=k.getResult()\n",
    "     k=message['bookread']\n",
    "     if k==\"y\":\n",
    "        message['barcode']=userid\n",
    "        k=queryrunner(message)\n",
    "        message=k.getoutput()\n",
    "        print(\"walter:\",message)\n",
    "     else:\n",
    "        print(\"walter:\",message)"
   ]
  }
 ],
 "metadata": {
  "kernelspec": {
   "display_name": "Python 3",
   "language": "python",
   "name": "python3"
  },
  "language_info": {
   "codemirror_mode": {
    "name": "ipython",
    "version": 3
   },
   "file_extension": ".py",
   "mimetype": "text/x-python",
   "name": "python",
   "nbconvert_exporter": "python",
   "pygments_lexer": "ipython3",
   "version": "3.6.1"
  }
 },
 "nbformat": 4,
 "nbformat_minor": 2
}
